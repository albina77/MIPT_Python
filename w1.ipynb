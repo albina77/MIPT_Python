{
 "cells": [
  {
   "cell_type": "markdown",
   "metadata": {},
   "source": [
    "# Week 1"
   ]
  },
  {
   "cell_type": "markdown",
   "metadata": {},
   "source": [
    "## Task 1"
   ]
  },
  {
   "cell_type": "code",
   "execution_count": null,
   "metadata": {},
   "outputs": [],
   "source": [
    "from math import sqrt\n",
    "\n",
    "word = input()\n",
    "l = list()\n",
    "\n",
    "while word != 'End':\n",
    "    l.append(int(word))\n",
    "    word = input()\n",
    "\n",
    "print(max(l))\n",
    "print(min(l))\n",
    "adv_x = round(sum(l) / len(l))\n",
    "print(adv_x)\n",
    "print(sqrt(sum((x - adv_x) ** 2 for x in l) / len(l)))"
   ]
  },
  {
   "cell_type": "markdown",
   "metadata": {},
   "source": [
    "## Task 2"
   ]
  },
  {
   "cell_type": "markdown",
   "metadata": {},
   "source": [
    "Bubble sort:"
   ]
  },
  {
   "cell_type": "code",
   "execution_count": null,
   "metadata": {},
   "outputs": [],
   "source": [
    "def bubble(a):\n",
    "    n=len(a)\n",
    "    for i in range (n-1):\n",
    "        for j in range (n-1-i):\n",
    "            if a[j]>a[j+1]:\n",
    "                a[j],a[j+1]=a[j+1],a[j]\n",
    "                print(*a)"
   ]
  },
  {
   "cell_type": "markdown",
   "metadata": {},
   "source": [
    "Selection sort:"
   ]
  },
  {
   "cell_type": "code",
   "execution_count": null,
   "metadata": {},
   "outputs": [],
   "source": [
    "def selection_sort(a):\n",
    "    n = len(a)\n",
    "    for i in range (n-1):\n",
    "        k = i\n",
    "        for j in range (i + 1, n):\n",
    "            if a[k] > a[j]:\n",
    "                k = j\n",
    "        a[i], a[k] = a[k], a[i]"
   ]
  },
  {
   "cell_type": "markdown",
   "metadata": {},
   "source": [
    "Insertion sort:"
   ]
  },
  {
   "cell_type": "code",
   "execution_count": null,
   "metadata": {},
   "outputs": [],
   "source": [
    "def insertion_sort(a):\n",
    "    n = len(a)\n",
    "    for i in range (n):\n",
    "        j = i - 1\n",
    "        while j >= 0 and a[j] > a[j+1]:\n",
    "            a[j], a[j+1] = a[j+1], a[j]\n",
    "            j -= 1"
   ]
  },
  {
   "cell_type": "markdown",
   "metadata": {},
   "source": [
    "Quick sort:"
   ]
  },
  {
   "cell_type": "code",
   "execution_count": null,
   "metadata": {},
   "outputs": [],
   "source": [
    "from random import randint\n",
    "\n",
    "def qsort(a, left, right):\n",
    "    if left >= right:\n",
    "        return\n",
    "    i, j = left, right\n",
    "    x = a[randint(left, right)]\n",
    "    while i <= j:\n",
    "        while a[i] < x:\n",
    "            i += 1\n",
    "        while a[j] > x:\n",
    "            j -= 1\n",
    "        if i <= j:\n",
    "            a[i], a[j] = a[j], a[i]\n",
    "            i += 1\n",
    "            j -= 1\n",
    "    qsort(a, left, j)\n",
    "    qsort(a, i, right)\n"
   ]
  },
  {
   "cell_type": "markdown",
   "metadata": {},
   "source": [
    "Merge sort:"
   ]
  },
  {
   "cell_type": "code",
   "execution_count": null,
   "metadata": {},
   "outputs": [],
   "source": [
    "def merge(a, b):\n",
    "    i = j = 0\n",
    "    n, m = len(a), len(b)\n",
    "    c = []\n",
    "    while i < n and j < m:\n",
    "        if a[i] < b[j]:\n",
    "            c.append(a[i])\n",
    "            i += 1\n",
    "        else:\n",
    "            c.append(b[j])\n",
    "            j += 1\n",
    "    c += a[i:] + b[j:]\n",
    "    return c\n",
    "\n",
    "def merge_sort(a):\n",
    "    if len(a) == 1:\n",
    "        return a\n",
    "    m = len(a) // 2\n",
    "    x = merge_sort(a[:m])\n",
    "    y = merge_sort(a[m:])\n",
    "    return merge(x, y)\n"
   ]
  },
  {
   "cell_type": "markdown",
   "metadata": {},
   "source": [
    "## Task 3"
   ]
  },
  {
   "cell_type": "code",
   "execution_count": null,
   "metadata": {},
   "outputs": [],
   "source": [
    "new_d = {value : key for key, value in d.items()}"
   ]
  },
  {
   "cell_type": "markdown",
   "metadata": {},
   "source": [
    "## Task 4"
   ]
  },
  {
   "cell_type": "code",
   "execution_count": null,
   "metadata": {},
   "outputs": [],
   "source": [
    "from math import sqrt\n",
    "\n",
    "list = [ i for i in range(2500) if (i % 10 == 1) and (float(sqrt(i)) == int(sqrt(i)))]\n",
    "print (*list)"
   ]
  },
  {
   "cell_type": "markdown",
   "metadata": {},
   "source": [
    "## Task 1+"
   ]
  },
  {
   "cell_type": "code",
   "execution_count": null,
   "metadata": {},
   "outputs": [],
   "source": [
    "a = list(map(int, input().split()))\n",
    "answer = []\n",
    "\n",
    "while a:\n",
    "    answer.append(a[0] + a[-1])\n",
    "    a.pop(0)\n",
    "    if a:\n",
    "        a.pop(-1)\n",
    "\n",
    "print(*answer)"
   ]
  },
  {
   "cell_type": "markdown",
   "metadata": {},
   "source": [
    "## Task 2+"
   ]
  },
  {
   "cell_type": "code",
   "execution_count": null,
   "metadata": {},
   "outputs": [],
   "source": [
    "A = set(list(input().split()))\n",
    "B = set(list(input().split()))\n",
    "C = A & B\n",
    "D = A | B\n",
    "E = A ^ B"
   ]
  }
 ],
 "metadata": {
  "kernelspec": {
   "display_name": "Python 3",
   "language": "python",
   "name": "python3"
  },
  "language_info": {
   "codemirror_mode": {
    "name": "ipython",
    "version": 3
   },
   "file_extension": ".py",
   "mimetype": "text/x-python",
   "name": "python",
   "nbconvert_exporter": "python",
   "pygments_lexer": "ipython3",
   "version": "3.8.3"
  }
 },
 "nbformat": 4,
 "nbformat_minor": 4
}
