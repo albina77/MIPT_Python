{
 "cells": [
  {
   "cell_type": "markdown",
   "metadata": {},
   "source": [
    "**Примитивы синхронизации** - механизмы, обеспечивающие только одному каналу единовременно доступ к какой-либо части кода. "
   ]
  },
  {
   "cell_type": "markdown",
   "metadata": {},
   "source": [
    "**Мьютекс** - один из видов примитивов синхронизации. Принцип его работы заключается в том, что часть кода может находиться в двух состояних: заблокированном и открытом. При переходе одного из каналов к выполнению данной части кода рассматривается её состояние, и, если данные защищены, поток находится в ожидании до их разблокировки."
   ]
  },
  {
   "cell_type": "markdown",
   "metadata": {},
   "source": [
    "**multiprocessing.Lock()** - это объект, позволяющий осуществить принцип мьютекса. Он имеет 2 базовых метода: acquire() и release(), блокирующий и разблокирующий часть кода соответственно."
   ]
  }
 ],
 "metadata": {
  "kernelspec": {
   "display_name": "Python 3",
   "language": "python",
   "name": "python3"
  },
  "language_info": {
   "codemirror_mode": {
    "name": "ipython",
    "version": 3
   },
   "file_extension": ".py",
   "mimetype": "text/x-python",
   "name": "python",
   "nbconvert_exporter": "python",
   "pygments_lexer": "ipython3",
   "version": "3.8.3"
  }
 },
 "nbformat": 4,
 "nbformat_minor": 4
}
