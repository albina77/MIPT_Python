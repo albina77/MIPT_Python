{
 "cells": [
  {
   "cell_type": "markdown",
   "metadata": {},
   "source": [
    "# Sys"
   ]
  },
  {
   "cell_type": "markdown",
   "metadata": {},
   "source": [
    "1. (1) Напишите программу, которая выводит количество переданных ей аргументов и печатает питоновский list, состоящий из этих аргументов."
   ]
  },
  {
   "cell_type": "code",
   "execution_count": null,
   "metadata": {},
   "outputs": [],
   "source": [
    "import sys\n",
    "\n",
    "params = []\n",
    "for param in sys.argv:\n",
    "    params.append(param)\n",
    "\n",
    "print(params)"
   ]
  },
  {
   "cell_type": "markdown",
   "metadata": {},
   "source": [
    "2. (1) Напишите программу, которая выводит версию питона и используемое ядро ОС."
   ]
  },
  {
   "cell_type": "code",
   "execution_count": 4,
   "metadata": {},
   "outputs": [
    {
     "name": "stdout",
     "output_type": "stream",
     "text": [
      "1013\n",
      "win32\n"
     ]
    }
   ],
   "source": [
    "import sys\n",
    "\n",
    "print(sys.api_version)\n",
    "print(sys.platform)"
   ]
  },
  {
   "cell_type": "markdown",
   "metadata": {},
   "source": [
    "# Argparse"
   ]
  },
  {
   "cell_type": "markdown",
   "metadata": {},
   "source": [
    "3. (2) Напишите консольную программу, которой на вход подается единственное число N (без имени или с именем -n), а программа печатает значение Nго числа Фибоначчи. "
   ]
  },
  {
   "cell_type": "code",
   "execution_count": 6,
   "metadata": {},
   "outputs": [
    {
     "name": "stderr",
     "output_type": "stream",
     "text": [
      "usage: ipykernel_launcher.py [-h] [-n N]\n",
      "ipykernel_launcher.py: error: unrecognized arguments: -f C:\\Users\\79821\\AppData\\Roaming\\jupyter\\runtime\\kernel-259b1bb0-b249-4b2d-830d-002e8e94fc4a.json\n"
     ]
    },
    {
     "ename": "SystemExit",
     "evalue": "2",
     "output_type": "error",
     "traceback": [
      "An exception has occurred, use %tb to see the full traceback.\n",
      "\u001b[1;31mSystemExit\u001b[0m\u001b[1;31m:\u001b[0m 2\n"
     ]
    },
    {
     "name": "stderr",
     "output_type": "stream",
     "text": [
      "C:\\Users\\79821\\anaconda3\\lib\\site-packages\\IPython\\core\\interactiveshell.py:3351: UserWarning: To exit: use 'exit', 'quit', or Ctrl-D.\n",
      "  warn(\"To exit: use 'exit', 'quit', or Ctrl-D.\", stacklevel=1)\n"
     ]
    }
   ],
   "source": [
    "import sys\n",
    "import argparse\n",
    "\n",
    "def createParser():\n",
    "    parser = argparse.ArgumentParser()\n",
    "    parser.add_argument('-n')\n",
    "    return parser\n",
    "\n",
    "parser = createParser()\n",
    "namespace = parser.parse_args(sys.argv[1:])\n",
    "number = int(namespace.n)\n",
    "\n",
    "def Fibbonachi(a):\n",
    "    if a == 1:\n",
    "        return 0\n",
    "    elif a == 2:\n",
    "        return 1\n",
    "    else:\n",
    "        return (Fibbonachi(a-1) + Fibbonachi(a-2))\n",
    "\n",
    "print(Fibbonachi(number))\n"
   ]
  },
  {
   "cell_type": "markdown",
   "metadata": {},
   "source": [
    "4. (3) Напишите программу, которая на вход принимает три аргумента --show-all (-a), --file (-f) <file> и один позиционный number и выводит n-ое простое число. Если передан аргумент командной строки --show-all или -a, то необходимо показывать все предыдущие простые числа (иначе показать только последнее). Если передан --file или -f, то нужно сохранить вывод программы в файл помимо печати в консоль (естественно, после --file надо считать путь к файлу). Порядок именованных аргументов не должен иметь значения. Для чтения файла использовать argparse.FileType()."
   ]
  },
  {
   "cell_type": "code",
   "execution_count": null,
   "metadata": {},
   "outputs": [],
   "source": [
    "import sys\n",
    "import argparse\n",
    "\n",
    "def createParser():\n",
    "    parser = argparse.ArgumentParser()\n",
    "    parser.add_argument('--show-all', '-a', action='store_const', const = True)\n",
    "    parser.add_argument('--file', '-f', type = argparse.FileType('w'))\n",
    "    parser.add_argument('number', type = int)\n",
    "    return parser\n",
    "\n",
    "def write_array(num, text, file_name):\n",
    "    file_name.write(str(num) + '\\n')\n",
    "    for item in text:\n",
    "        file_name.write(str(item) + ' ')\n",
    "    return\n",
    "\n",
    "\n",
    "parser = createParser()\n",
    "namespace = parser.parse_args()\n",
    "\n",
    "n = namespace.number\n",
    "lst=[2]\n",
    "i = 1\n",
    "while (len(lst) < n):\n",
    "    i += 2\n",
    "    if (i > 10) and (i%10==5):\n",
    "        continue\n",
    "    for j in lst:\n",
    "        if j*j-1 > i:\n",
    "            lst.append(i)\n",
    "            break\n",
    "        if (i % j == 0):\n",
    "            break\n",
    "    else:\n",
    "        lst.append(i)\n",
    "print(lst[-1])\n",
    "if namespace.show_all:\n",
    "    print(*lst[:-1])\n",
    "if namespace.file:\n",
    "    write_array(lst[-1], lst, namespace.file)\n"
   ]
  },
  {
   "cell_type": "markdown",
   "metadata": {},
   "source": [
    "# Декораторы"
   ]
  },
  {
   "cell_type": "markdown",
   "metadata": {},
   "source": [
    "5. (2) Напишите функцию, которая получает на вход список чисел и выдает ответ, сколько в данном списке четных чисел. Напишите декоратор, который меняет поведение функции следующим образом: если четных чисел нет, то пишет \"Нет(\" а если их больше 10, то пишет \"Очень много\"."
   ]
  },
  {
   "cell_type": "code",
   "execution_count": null,
   "metadata": {},
   "outputs": [],
   "source": [
    "lst = list(map(int, input().split()))\n",
    "\n",
    "def dec(func):\n",
    "    def wrapper(a):\n",
    "        k = func(a)\n",
    "        if k == 0:\n",
    "            print('Нет(')\n",
    "        elif k > 10:\n",
    "            print ('Очень много')\n",
    "        return\n",
    "    return wrapper\n",
    "\n",
    "@dec\n",
    "def how_much(a):\n",
    "    k = 0\n",
    "    for item in a:\n",
    "        if item % 2 == 0:\n",
    "            k += 1\n",
    "    return k\n",
    "\n",
    "how_much(lst)"
   ]
  },
  {
   "cell_type": "markdown",
   "metadata": {},
   "source": [
    "6. (2) Напишите декоратор swap, который делает так, что задекорированная функция принимает все свои неименованные аргументы в порядке, обратном тому, в котором их передали (для аргументов с именем не вполне правильно учитывать порядок, в котором они были переданы)."
   ]
  },
  {
   "cell_type": "code",
   "execution_count": null,
   "metadata": {},
   "outputs": [],
   "source": [
    "import time\n",
    "\n",
    "def swap(func):\n",
    "    def wrapper(*args, **kwargs):\n",
    "        args = args[::-1]\n",
    "        func(*args, **kwargs)\n",
    "        return\n",
    "    return wrapper\n",
    "\n",
    "@swap\n",
    "def div(x, y, show=False):\n",
    "    res = x / y\n",
    "    if show:\n",
    "        print(res)\n",
    "    return res\n",
    "\n",
    "div(2, 4, show=True)\n",
    "a = time.time()\n",
    "print(type(time.ctime(a)))\n"
   ]
  },
  {
   "cell_type": "markdown",
   "metadata": {},
   "source": [
    "7. (3) Напишите декоратор, который принимает в качестве аргумента путь к файлу. Если данный декоратор добавить к функции, то в указанный файл будет логироваться информация вида:\n",
    "  - Время вызова функции\n",
    "  - Входящие аргументы\n",
    "  - Ответ return (если есть, если нет то логгировать '-')\n",
    "  - Время завершения работы функции\n",
    "  - Время работы функции"
   ]
  },
  {
   "cell_type": "code",
   "execution_count": null,
   "metadata": {},
   "outputs": [],
   "source": [
    "import time\n",
    "\n",
    "\n",
    "def write_array(text, file_name):\n",
    "    file_name.writelines(text)\n",
    "    return\n",
    "\n",
    "\n",
    "def dec_of_dec(way):\n",
    "    def dec(func):\n",
    "        def wrapper(*args, **kwargs):\n",
    "            start = time.time()\n",
    "            answer = func(*args, **kwargs)\n",
    "            finish = time.time()\n",
    "            time_of_work = finish - start\n",
    "            list_to_write = []\n",
    "            list_to_write.append(time.ctime(start))\n",
    "            list_to_write.append('\\n')\n",
    "            if args:\n",
    "                for i in args:\n",
    "                    list_to_write.append((str(i)+' '))\n",
    "                list_to_write.append('\\n')\n",
    "            if kwargs:\n",
    "                for key in kwargs.keys():\n",
    "                    list_to_write.append(str(kwargs[key]) + ' ')\n",
    "                list_to_write.append('\\n')\n",
    "            if answer:\n",
    "                list_to_write.append(str(answer))\n",
    "                list_to_write.append('\\n')\n",
    "            else:\n",
    "                list_to_write.append('-')\n",
    "                list_to_write.append('\\n')\n",
    "            list_to_write.append(time.ctime(finish))\n",
    "            list_to_write.append('\\n')\n",
    "            list_to_write.append(str(time_of_work))\n",
    "            list_to_write.append('\\n')\n",
    "            output = open(way, 'w')\n",
    "            write_array(list_to_write, output)\n",
    "            return answer\n",
    "        return wrapper\n",
    "    return dec\n",
    "\n",
    "@dec_of_dec(r'C:\\Users\\79821\\.PyCharmCE2019.2\\config\\scratches\\1.txt')\n",
    "'''\n",
    "место для вашей программы\n",
    "'''\n",
    "\n"
   ]
  }
 ],
 "metadata": {
  "kernelspec": {
   "display_name": "Python 3",
   "language": "python",
   "name": "python3"
  },
  "language_info": {
   "codemirror_mode": {
    "name": "ipython",
    "version": 3
   },
   "file_extension": ".py",
   "mimetype": "text/x-python",
   "name": "python",
   "nbconvert_exporter": "python",
   "pygments_lexer": "ipython3",
   "version": "3.8.3"
  }
 },
 "nbformat": 4,
 "nbformat_minor": 4
}
