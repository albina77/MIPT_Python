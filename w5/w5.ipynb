{
 "cells": [
  {
   "cell_type": "markdown",
   "metadata": {},
   "source": [
    "## Практика по ООП в Python"
   ]
  },
  {
   "cell_type": "markdown",
   "metadata": {},
   "source": [
    "(3) Напишите программу, которая объявляет класс Shape, конструктор которого принимает ширину и высоту. После этого унаследуйте от него класс Triangle и Rectangle. Реализуйте метод area(), который возвращает площадь этих фигур."
   ]
  },
  {
   "cell_type": "code",
   "execution_count": null,
   "metadata": {},
   "outputs": [],
   "source": [
    "class Shape:\n",
    "\n",
    "    width = 0\n",
    "    height = 0\n",
    "\n",
    "    def __init__(self, width, height):\n",
    "        self.width = width\n",
    "        self.height = height\n",
    "\n",
    "\n",
    "    def area(self):\n",
    "        return self.get_area()\n",
    "\n",
    "\n",
    "class Triangle(Shape):\n",
    "\n",
    "    def get_area(self):\n",
    "        return 0.5 * self.height * self.width\n",
    "\n",
    "class Rectangle(Shape):\n",
    "\n",
    "    def get_area(self):\n",
    "        return self.height * self.width\n",
    "\n",
    "\n",
    "\n"
   ]
  },
  {
   "cell_type": "markdown",
   "metadata": {},
   "source": [
    "(3) Напишите программу с классом Mother от которого наследуется класс Daughter. Сделайте так, чтобы результат print(object) был разный. Воспользуйтесь принципами полиморфизма, наследования и инкапсуляции."
   ]
  },
  {
   "cell_type": "code",
   "execution_count": null,
   "metadata": {},
   "outputs": [],
   "source": [
    "class Mother:\n",
    "\n",
    "    color_of_eyes = 'green' # для демонстрации наследования\n",
    "\n",
    "    def __str__(self):\n",
    "        return self.get_str()\n",
    "\n",
    "    def get_str(self):\n",
    "        return(\"I'm mamasita\")\n",
    "\n",
    "\n",
    "class Daughter(Mother):\n",
    "\n",
    "    def get_str(self):\n",
    "        print(Daughter.color_of_eyes)\n",
    "        return \"I'm daughter\"\n",
    "\n",
    "Alina = Daughter()\n",
    "print(Alina)\n",
    "print(Alina.color_of_eyes)\n",
    "Tatiana = Mother()\n",
    "print(Tatiana)"
   ]
  },
  {
   "cell_type": "markdown",
   "metadata": {},
   "source": [
    "(4) Реализйте класс Animal. Внутри объявите поле для имени и возраста. От класса Animal унаследуйте класс Zebra и Dolphin. Оба класса могут вернуть описание, содержащее имя, возраст и какую-то доп.информацию, например, что это за вид животного. Воспользуйтесь принципами полиморфизма, наследования и инкапсуляции."
   ]
  },
  {
   "cell_type": "code",
   "execution_count": 1,
   "metadata": {},
   "outputs": [],
   "source": [
    "class Animal:\n",
    "\n",
    "    name = ''\n",
    "    age = 0\n",
    "\n",
    "    def __init__(self, name, age):\n",
    "        self.name = name\n",
    "        self.age = age\n",
    "\n",
    "    def __str__(self):\n",
    "        return self.get_str()\n",
    "\n",
    "class Zebra(Animal):\n",
    "\n",
    "    species = 'common'\n",
    "\n",
    "    def __init__(self, name, age, species):\n",
    "        super().__init__(name, age)\n",
    "        self.species = species\n",
    "\n",
    "    def get_str(self):\n",
    "        return \" \".join([\"Name:\", self.name, \"\\n\",\n",
    "                        \"Age:\", self.age, \"\\n\",\n",
    "                        \"Species:\", self.species, \"\\n\",\n",
    "                        \"------------------------------------------------\\n\"])\n",
    "\n",
    "\n",
    "class Dolphin(Animal):\n",
    "\n",
    "    skill = 'no'\n",
    "\n",
    "    def __init__(self, name, age, skill):\n",
    "        super().__init__(name, age)\n",
    "        self.skill = skill\n",
    "\n",
    "    def get_str(self):\n",
    "        return \" \".join([\"Name:\", self.name, \"\\n\",\n",
    "                        \"Age:\", self.age, \"\\n\",\n",
    "                        \"Skill:\", self.skill, \"\\n\",\n",
    "                        \"------------------------------------------------\\n\"])\n",
    "\n"
   ]
  }
 ],
 "metadata": {
  "kernelspec": {
   "display_name": "Python 3",
   "language": "python",
   "name": "python3"
  },
  "language_info": {
   "codemirror_mode": {
    "name": "ipython",
    "version": 3
   },
   "file_extension": ".py",
   "mimetype": "text/x-python",
   "name": "python",
   "nbconvert_exporter": "python",
   "pygments_lexer": "ipython3",
   "version": "3.8.3"
  }
 },
 "nbformat": 4,
 "nbformat_minor": 4
}
